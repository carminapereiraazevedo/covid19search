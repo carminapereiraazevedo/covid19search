{
 "cells": [
  {
   "cell_type": "code",
   "execution_count": 4,
   "metadata": {},
   "outputs": [],
   "source": [
    "#Load the vectors created from fasttext into SPTag\n",
    "import globals\n",
    "import os"
   ]
  },
  {
   "cell_type": "code",
   "execution_count": 16,
   "metadata": {},
   "outputs": [],
   "source": [
    "#Convert the fasttext created vector file to a format SPTag expects\n",
    "with open(os.path.join(globals.vectors_out_dir, globals.vectors_out_file), \"r\", encoding='utf-8') as fastTextFile:\n",
    "    with open(os.path.join(globals.vectors_out_dir, globals.sptag_formatted_vectors_out_file), \"w\", encoding='utf-8') as sptagFile:\n",
    "        for line in fastTextFile:\n",
    "            fields = line.split(' ')\n",
    "            if len(fields) >= 301:\n",
    "                sptag_fmt_line = fields[0] + '\\t'\n",
    "                for field in fields[1:301]:\n",
    "                    sptag_fmt_line += field + '|'\n",
    "                sptagFile.write(sptag_fmt_line + '\\r\\n')\n"
   ]
  },
  {
   "cell_type": "code",
   "execution_count": 21,
   "metadata": {},
   "outputs": [
    {
     "data": {
      "text/plain": [
       "0"
      ]
     },
     "execution_count": 21,
     "metadata": {},
     "output_type": "execute_result"
    }
   ],
   "source": [
    "# Create the SPTag Term Vector Index\n",
    "os.system(globals.index_builder + ' -d 300 -v float -i ' + os.path.join(globals.vectors_out_dir, globals.sptag_formatted_vectors_out_file) + ' -o ' + globals.sptag_term_idx_folder + ' -a kdt')"
   ]
  },
  {
   "cell_type": "code",
   "execution_count": null,
   "metadata": {},
   "outputs": [],
   "source": []
  }
 ],
 "metadata": {
  "kernelspec": {
   "display_name": "py36",
   "language": "python",
   "name": "py36"
  },
  "language_info": {
   "codemirror_mode": {
    "name": "ipython",
    "version": 3
   },
   "file_extension": ".py",
   "mimetype": "text/x-python",
   "name": "python",
   "nbconvert_exporter": "python",
   "pygments_lexer": "ipython3",
   "version": "3.6.10"
  }
 },
 "nbformat": 4,
 "nbformat_minor": 4
}
