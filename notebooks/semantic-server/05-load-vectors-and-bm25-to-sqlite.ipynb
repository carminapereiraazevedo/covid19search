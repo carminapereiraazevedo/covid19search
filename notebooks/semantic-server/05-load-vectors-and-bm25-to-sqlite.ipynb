{
 "cells": [
  {
   "cell_type": "code",
   "execution_count": 10,
   "metadata": {},
   "outputs": [],
   "source": [
    "import os\n",
    "import globals\n",
    "import sqlite3\n",
    "from sqlite3 import Error\n",
    "\n",
    "from pathlib import Path\n",
    "from shutil import rmtree"
   ]
  },
  {
   "cell_type": "code",
   "execution_count": 12,
   "metadata": {},
   "outputs": [],
   "source": [
    "sqlite_path = Path(globals.sqlite_term_vec_dir)\n",
    "if sqlite_path.exists():\n",
    "    rmtree(sqlite_path)\n",
    "sqlite_path.mkdir(parents=True)\n",
    "\n",
    "conn = sqlite3.connect(os.path.join(globals.sqlite_term_vec_dir,globals.sqlite_term_vec_file))\n",
    "try:\n",
    "    sql = \"create table vectors (term nvarchar(512), avgbm25 float, vector text, primary key (term))\"\n",
    "    conn.execute(sql)\n",
    "    sql = \"create table tmp_vectors (term nvarchar(512), vector text, primary key (term))\"\n",
    "    conn.execute(sql)\n",
    "except Error as e:\n",
    "    print(e)\n"
   ]
  },
  {
   "cell_type": "code",
   "execution_count": 14,
   "metadata": {},
   "outputs": [
    {
     "name": "stdout",
     "output_type": "stream",
     "text": [
      "Inserted: 10000\n",
      "Inserted: 20000\n",
      "Inserted: 30000\n",
      "Inserted: 40000\n",
      "Inserted: 50000\n",
      "Inserted: 60000\n",
      "Inserted: 70000\n",
      "Inserted: 80000\n",
      "Inserted: 90000\n",
      "Inserted: 100000\n",
      "Inserted: 110000\n",
      "Inserted: 120000\n",
      "Inserted: 130000\n",
      "Inserted: 137312\n"
     ]
    }
   ],
   "source": [
    "# Load the bm25 values into tmp table\n",
    "count = 0\n",
    "rows = []\n",
    "c = conn.cursor()\n",
    "with open(os.path.join(globals.bm25_dir, globals.bm25_file), encoding='utf-8') as fp: \n",
    "    while True: \n",
    "        line = fp.readline() \n",
    "        if not line: \n",
    "            break\n",
    "\n",
    "        fields = line.split('\\t')\n",
    "        rows.append((fields[0], fields[1]))\n",
    "        count += 1\n",
    "        if count % 10000 == 0: \n",
    "            sql = 'insert into vectors (term, avgbm25) values (?,?)'\n",
    "            c.executemany(sql, rows)\n",
    "            conn.commit()\n",
    "            print (\"Inserted:\", str(count))\n",
    "            rows = []\n",
    "if len(rows) > 0:\n",
    "    sql = 'insert into vectors (term, avgbm25) values (?,?)'\n",
    "    c.executemany(sql, rows)\n",
    "    conn.commit()\n",
    "    print (\"Inserted:\", str(count))\n",
    "\n"
   ]
  },
  {
   "cell_type": "code",
   "execution_count": 15,
   "metadata": {},
   "outputs": [
    {
     "name": "stdout",
     "output_type": "stream",
     "text": [
      "Inserted: 10000\n",
      "Inserted: 19250\n"
     ]
    }
   ],
   "source": [
    "# load the vectors\n",
    "count = 0\n",
    "rows = []\n",
    "c = conn.cursor()\n",
    "with open(os.path.join(globals.vectors_out_dir, globals.vectors_out_file), encoding='utf-8') as fp: \n",
    "    while True: \n",
    "        line = fp.readline() \n",
    "        if not line: \n",
    "            break\n",
    "\n",
    "        fields = line.split(' ')\n",
    "        if len(fields) == 302:\n",
    "            vec_str = ''\n",
    "            for field in fields[1:301]:\n",
    "                vec_str += field + '|'\n",
    "            rows.append((fields[0], vec_str))\n",
    "        count += 1\n",
    "        if count % 10000 == 0: \n",
    "            sql = 'insert into tmp_vectors (term, vector) values (?,?)'\n",
    "            c.executemany(sql, rows)\n",
    "            conn.commit()\n",
    "            print (\"Inserted:\", str(count))\n",
    "            rows = []\n",
    "if len(rows) > 0:\n",
    "    sql = 'insert into tmp_vectors (term, vector) values (?,?)'\n",
    "    c.executemany(sql, rows)\n",
    "    conn.commit()\n",
    "    print (\"Inserted:\", str(count))\n"
   ]
  },
  {
   "cell_type": "code",
   "execution_count": 17,
   "metadata": {},
   "outputs": [],
   "source": [
    "sql = 'update vectors set vector = (select vector from tmp_vectors where vectors.term = tmp_vectors.term)'\n",
    "c.execute(sql)\n",
    "conn.commit()\n",
    "\n",
    "sql = 'drop table tmp_vectors'\n",
    "c.execute(sql)\n",
    "conn.commit()"
   ]
  },
  {
   "cell_type": "code",
   "execution_count": 20,
   "metadata": {},
   "outputs": [],
   "source": [
    "# shrink db\n",
    "sql = 'vacuum'\n",
    "c.execute(sql)\n",
    "conn.commit()"
   ]
  },
  {
   "cell_type": "code",
   "execution_count": null,
   "metadata": {},
   "outputs": [],
   "source": []
  }
 ],
 "metadata": {
  "kernelspec": {
   "display_name": "py36",
   "language": "python",
   "name": "py36"
  },
  "language_info": {
   "codemirror_mode": {
    "name": "ipython",
    "version": 3
   },
   "file_extension": ".py",
   "mimetype": "text/x-python",
   "name": "python",
   "nbconvert_exporter": "python",
   "pygments_lexer": "ipython3",
   "version": "3.6.10"
  }
 },
 "nbformat": 4,
 "nbformat_minor": 4
}
