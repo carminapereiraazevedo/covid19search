{
 "cells": [
  {
   "cell_type": "code",
   "execution_count": 1,
   "metadata": {},
   "outputs": [],
   "source": [
    "import globals\n",
    "import os\n",
    "import sqlite3\n",
    "from sqlite3 import Error\n",
    "\n",
    "from pathlib import Path\n",
    "from shutil import rmtree"
   ]
  },
  {
   "cell_type": "code",
   "execution_count": 11,
   "metadata": {},
   "outputs": [],
   "source": [
    "sqlite_path = Path(globals.sqlite_doc_vec_dir)\n",
    "if sqlite_path.exists():\n",
    "    rmtree(sqlite_path)\n",
    "sqlite_path.mkdir(parents=True)\n",
    "\n",
    "conn = sqlite3.connect(os.path.join(globals.sqlite_doc_vec_dir,globals.sqlite_doc_vec_file))\n",
    "try:\n",
    "    sql = \"create table vectors (docid nvarchar(512), vector text, primary key (docid))\"\n",
    "    conn.execute(sql)\n",
    "except Error as e:\n",
    "    print(e)\n"
   ]
  },
  {
   "cell_type": "code",
   "execution_count": 12,
   "metadata": {},
   "outputs": [
    {
     "name": "stdout",
     "output_type": "stream",
     "text": [
      "Inserted: 10000\n",
      "Inserted: 20000\n",
      "Inserted: 30000\n",
      "Inserted: 40000\n",
      "Inserted: 50000\n",
      "Inserted: 57939\n"
     ]
    }
   ],
   "source": [
    "# load the vectors\n",
    "count = 0\n",
    "rows = []\n",
    "c = conn.cursor()\n",
    "with open(os.path.join(globals.avg_doc_vec_dir, globals.avg_doc_vec_file), encoding='utf-8') as fp: \n",
    "    while True: \n",
    "        line = fp.readline() \n",
    "        if not line: \n",
    "            break\n",
    "\n",
    "        fields = line.split('\\t')\n",
    "        rows.append((fields[0], fields[1]))\n",
    "        count += 1\n",
    "        if count % 10000 == 0: \n",
    "            sql = 'insert into vectors (docid, vector) values (?,?)'\n",
    "            c.executemany(sql, rows)\n",
    "            conn.commit()\n",
    "            print (\"Inserted:\", str(count))\n",
    "            rows = []\n",
    "if len(rows) > 0:\n",
    "    sql = 'insert into vectors (docid, vector) values (?,?)'\n",
    "    c.executemany(sql, rows)\n",
    "    conn.commit()\n",
    "    print (\"Inserted:\", str(count))\n"
   ]
  },
  {
   "cell_type": "code",
   "execution_count": null,
   "metadata": {},
   "outputs": [],
   "source": []
  }
 ],
 "metadata": {
  "kernelspec": {
   "display_name": "py36",
   "language": "python",
   "name": "py36"
  },
  "language_info": {
   "codemirror_mode": {
    "name": "ipython",
    "version": 3
   },
   "file_extension": ".py",
   "mimetype": "text/x-python",
   "name": "python",
   "nbconvert_exporter": "python",
   "pygments_lexer": "ipython3",
   "version": "3.6.10"
  }
 },
 "nbformat": 4,
 "nbformat_minor": 4
}
