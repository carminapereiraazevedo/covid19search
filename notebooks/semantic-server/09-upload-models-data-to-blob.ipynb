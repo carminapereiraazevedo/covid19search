{
 "cells": [
  {
   "cell_type": "code",
   "execution_count": 1,
   "metadata": {},
   "outputs": [],
   "source": [
    "# !pip install azure-storage-blob==2.1.0"
   ]
  },
  {
   "cell_type": "code",
   "execution_count": 2,
   "metadata": {},
   "outputs": [],
   "source": [
    "import globals\n",
    "import os\n",
    "from os import listdir\n",
    "from os.path import isfile, join\n",
    "\n",
    "from azure.storage.blob import BlockBlobService\n",
    "\n",
    "from pathlib import Path\n",
    "import shutil\n",
    "from shutil import rmtree\n",
    "\n",
    "import pickle\n"
   ]
  },
  {
   "cell_type": "code",
   "execution_count": 17,
   "metadata": {},
   "outputs": [],
   "source": [
    "def uploadFiles(files_to_upload):\n",
    "    counter = 0\n",
    "    for blob_file in files_to_upload:\n",
    "        block_blob_service.create_blob_from_path(globals.blob_container_name, blob_file, os.path.join(globals.root_dir, blob_file))\n",
    "        counter += 1\n",
    "        if counter % 100 == 0:\n",
    "            print (counter, 'of', len(files_to_upload), 'uploaded...')\n",
    "    print (counter, 'of', len(files_to_upload), 'uploaded...')\n"
   ]
  },
  {
   "cell_type": "code",
   "execution_count": 18,
   "metadata": {},
   "outputs": [
    {
     "name": "stdout",
     "output_type": "stream",
     "text": [
      "Container already exists\n"
     ]
    }
   ],
   "source": [
    "block_blob_service = BlockBlobService(account_name=globals.blob_account_name, account_key=globals.blob_account_key)\n",
    "\n",
    "if block_blob_service.create_container(globals.blob_container_name):\n",
    "    print (\"Container created\")\n",
    "else:\n",
    "    print (\"Container already exists\")"
   ]
  },
  {
   "cell_type": "code",
   "execution_count": 19,
   "metadata": {},
   "outputs": [],
   "source": [
    "doc_vec_db_files = ['sqlite-doc-vectors/doc-vectors.db']\n",
    "term_vec_db_files = ['sqlite-term-vectors/term-vectors.db']\n",
    "doc_vec_sptag_files = ['sptag_doc_idx/deletes.bin', 'sptag_doc_idx/graph.bin', 'sptag_doc_idx/indexloader.ini', 'sptag_doc_idx/metadata.bin', 'sptag_doc_idx/metadataIndex.bin', 'sptag_doc_idx/tree.bin', 'sptag_doc_idx/vectors.bin']\n",
    "term_vec_sptag_files = ['sptag_term_idx/deletes.bin', 'sptag_term_idx/graph.bin', 'sptag_term_idx/indexloader.ini', 'sptag_term_idx/metadata.bin', 'sptag_term_idx/metadataIndex.bin', 'sptag_term_idx/tree.bin', 'sptag_term_idx/vectors.bin']\n"
   ]
  },
  {
   "cell_type": "code",
   "execution_count": 20,
   "metadata": {},
   "outputs": [
    {
     "name": "stdout",
     "output_type": "stream",
     "text": [
      "1 of 1 uploaded...\n",
      "1 of 1 uploaded...\n",
      "7 of 7 uploaded...\n",
      "7 of 7 uploaded...\n"
     ]
    }
   ],
   "source": [
    "uploadFiles(doc_vec_db_files)\n",
    "uploadFiles(term_vec_db_files)\n",
    "uploadFiles(doc_vec_sptag_files)\n",
    "uploadFiles(term_vec_sptag_files)"
   ]
  },
  {
   "cell_type": "code",
   "execution_count": null,
   "metadata": {},
   "outputs": [],
   "source": []
  }
 ],
 "metadata": {
  "kernelspec": {
   "display_name": "py37_default",
   "language": "python",
   "name": "conda-env-py37_default-py"
  },
  "language_info": {
   "codemirror_mode": {
    "name": "ipython",
    "version": 3
   },
   "file_extension": ".py",
   "mimetype": "text/x-python",
   "name": "python",
   "nbconvert_exporter": "python",
   "pygments_lexer": "ipython3",
   "version": "3.7.6"
  }
 },
 "nbformat": 4,
 "nbformat_minor": 4
}
