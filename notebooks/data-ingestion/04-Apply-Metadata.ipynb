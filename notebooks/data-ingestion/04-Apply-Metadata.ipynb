{
 "cells": [
  {
   "cell_type": "code",
   "execution_count": 1,
   "metadata": {},
   "outputs": [],
   "source": [
    "#Take the file and extract the journal dates and upload to Azure Cog Search index\n",
    "# https://azsdemos.blob.core.windows.net/covid-19/metadata.csv"
   ]
  },
  {
   "cell_type": "code",
   "execution_count": 2,
   "metadata": {},
   "outputs": [],
   "source": [
    "import globals\n",
    "\n",
    "import csv\n",
    "from dateutil import parser\n",
    "\n",
    "import json\n",
    "import requests\n",
    "from pprint import pprint\n",
    "\n",
    "from azure.storage.blob import BlockBlobService\n",
    "\n",
    "metadata_file = \"json/metadata.csv\""
   ]
  },
  {
   "cell_type": "code",
   "execution_count": 3,
   "metadata": {},
   "outputs": [],
   "source": [
    "block_blob_service = BlockBlobService(account_name=globals.blob_account_name, account_key=globals.blob_account_key)"
   ]
  },
  {
   "cell_type": "code",
   "execution_count": 4,
   "metadata": {},
   "outputs": [
    {
     "data": {
      "text/plain": [
       "<azure.storage.blob.models.Blob at 0x7f563085ad50>"
      ]
     },
     "execution_count": 4,
     "metadata": {},
     "output_type": "execute_result"
    }
   ],
   "source": [
    "block_blob_service.get_blob_to_path(globals.blob_container_name, metadata_file, '/tmp/metadata.csv')"
   ]
  },
  {
   "cell_type": "code",
   "execution_count": 5,
   "metadata": {},
   "outputs": [
    {
     "name": "stdout",
     "output_type": "stream",
     "text": [
      "Applying docs: 1000\n",
      "Applying docs: 2000\n",
      "Applying docs: 3000\n",
      "Applying docs: 4000\n",
      "Applying docs: 5000\n",
      "Applying docs: 6000\n",
      "Applying docs: 7000\n",
      "Applying docs: 8000\n",
      "Applying docs: 9000\n",
      "Applying docs: 10000\n",
      "Applying docs: 11000\n",
      "Applying docs: 12000\n",
      "Applying docs: 13000\n",
      "Applying docs: 14000\n",
      "Applying docs: 15000\n",
      "Applying docs: 16000\n",
      "Applying docs: 17000\n",
      "Applying docs: 18000\n",
      "Applying docs: 19000\n",
      "Applying docs: 20000\n",
      "Applying docs: 21000\n",
      "Applying docs: 22000\n",
      "Applying docs: 23000\n",
      "Applying docs: 24000\n",
      "Applying docs: 25000\n",
      "Applying docs: 26000\n",
      "Applying docs: 27000\n",
      "Applying docs: 28000\n",
      "Applying docs: 29000\n",
      "Applying docs: 30000\n",
      "Applying docs: 31000\n",
      "Applying docs: 32000\n",
      "Applying docs: 33000\n",
      "Applying docs: 34000\n",
      "Applying docs: 35000\n",
      "Applying docs: 36000\n",
      "Applying docs: 37000\n",
      "Applying docs: 38000\n",
      "Applying docs: 39000\n",
      "Applying docs: 40000\n",
      "Applying docs: 41000\n",
      "Applying docs: 42000\n",
      "Applying docs: 43000\n",
      "Applying docs: 44000\n",
      "Applying docs: 45000\n",
      "Applying docs: 46000\n",
      "Applying docs: 47000\n",
      "Applying docs: 48000\n",
      "Applying docs: 48945\n"
     ]
    }
   ],
   "source": [
    "documents = {\"value\": []}\n",
    "doc_counter = 0\n",
    "batch_size = 1000\n",
    "\n",
    "row_counter = 0\n",
    "with open('/tmp/metadata.csv', newline='', encoding='utf-8') as csvfile:\n",
    "    reader = csv.DictReader(csvfile)\n",
    "    for row in reader:\n",
    "        split_sha = row['sha'].split(';')\n",
    "        \n",
    "        # Sometimes the metadata can have two doc's in a single row\n",
    "        for sha in split_sha:\n",
    "            docID = ''\n",
    "            pubDate = ''\n",
    "            journal = ''\n",
    "            fullTextURL = ''\n",
    "            searchJSON = {\"@search.action\": \"merge\"}\n",
    "            if len(sha.strip()) > 1:\n",
    "                doc_counter += 1\n",
    "\n",
    "                try:\n",
    "                    docID = sha.strip()\n",
    "                    searchJSON[\"docID\"] = docID\n",
    "\n",
    "                    pubDate = row['publish_time']\n",
    "                    \n",
    "                    if len(pubDate) > 11:\n",
    "                        pubDate = parser.parse(pubDate[:8]).strftime('%Y-%m-%d') + 'T12:00:00Z'\n",
    "                    elif len(pubDate) == 4:\n",
    "                        pubDate = parser.parse(pubDate[:4]+\"-01-01\").strftime('%Y-%m-%d') + 'T12:00:00Z'\n",
    "                    else:\n",
    "                        pubDate = parser.parse(pubDate).strftime('%Y-%m-%d') + 'T12:00:00Z'\n",
    "                    searchJSON[\"pubDate\"] = pubDate\n",
    "                    \n",
    "                    searchJSON[\"journal\"] = row['journal']\n",
    "                    searchJSON[\"fullTextURL\"] = row['url']\n",
    "                    \n",
    "                    documents[\"value\"].append(searchJSON)\n",
    "                    \n",
    "\n",
    "                except Exception as ex:\n",
    "                    print (\"Error: \", ex)\n",
    "                    \n",
    "                if doc_counter % batch_size == 0:\n",
    "                    print (\"Applying docs:\", doc_counter)\n",
    "                    url = globals.endpoint + \"indexes/\" + globals.indexName + \"/docs/index\" + globals.api_version\n",
    "                    response  = requests.post(url, headers=globals.headers, json=documents)\n",
    "                    documents = {\"value\": []}\n",
    "    \n",
    "    \n",
    "\n",
    "if doc_counter > 0:\n",
    "    print (\"Applying docs:\", doc_counter)\n",
    "    url = globals.endpoint + \"indexes/\" + globals.indexName + \"/docs/index\" + globals.api_version\n",
    "    response  = requests.post(url, headers=globals.headers, json=documents)\n"
   ]
  },
  {
   "cell_type": "code",
   "execution_count": null,
   "metadata": {},
   "outputs": [],
   "source": []
  }
 ],
 "metadata": {
  "kernelspec": {
   "display_name": "py37_default",
   "language": "python",
   "name": "conda-env-py37_default-py"
  },
  "language_info": {
   "codemirror_mode": {
    "name": "ipython",
    "version": 3
   },
   "file_extension": ".py",
   "mimetype": "text/x-python",
   "name": "python",
   "nbconvert_exporter": "python",
   "pygments_lexer": "ipython3",
   "version": "3.7.6"
  }
 },
 "nbformat": 4,
 "nbformat_minor": 4
}
