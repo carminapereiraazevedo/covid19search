{
 "cells": [
  {
   "cell_type": "code",
   "execution_count": 6,
   "metadata": {},
   "outputs": [],
   "source": [
    "import globals\n",
    "\n",
    "import os\n",
    "import urllib\n",
    "import urllib.request as request\n",
    "from contextlib import closing\n",
    "\n",
    "import pickle\n",
    "\n",
    "import zipfile\n",
    "\n",
    "import tarfile\n",
    "\n",
    "from azure.storage.blob import BlockBlobService\n",
    "\n"
   ]
  },
  {
   "cell_type": "code",
   "execution_count": 31,
   "metadata": {},
   "outputs": [],
   "source": [
    "def downloadAndExtractFile(file):\n",
    "    local_file = os.path.join(globals.files_dir, file[file.rindex('/')+1:])\n",
    "    print (\"Downloading:\" , local_file)\n",
    "    urllib.request.urlretrieve (file, local_file)\n",
    "    \n",
    "    tar = tarfile.open(local_file)\n",
    "    tar.extractall(globals.files_dir)\n",
    "    tar.close()\n",
    "\n",
    "    os.remove(local_file)\n",
    "\n",
    "def downloadFile(file):\n",
    "    local_file = os.path.join(globals.files_dir, file[file.rindex('/')+1:])\n",
    "    print (\"Downloading:\" , local_file)\n",
    "    urllib.request.urlretrieve (file, local_file)\n",
    "    \n",
    "def uploadFiles(infile, outfile):\n",
    "    block_blob_service.create_blob_from_path(globals.blob_container_name, outfile, infile)\n"
   ]
  },
  {
   "cell_type": "code",
   "execution_count": 28,
   "metadata": {},
   "outputs": [],
   "source": [
    "globals.resetDir(globals.files_dir)\n"
   ]
  },
  {
   "cell_type": "code",
   "execution_count": 29,
   "metadata": {},
   "outputs": [
    {
     "name": "stdout",
     "output_type": "stream",
     "text": [
      "Downloading: /datadrive/processed/content/comm_use_subset.tar.gz\n",
      "Downloading: /datadrive/processed/content/noncomm_use_subset.tar.gz\n",
      "Downloading: /datadrive/processed/content/custom_license.tar.gz\n",
      "Downloading: /datadrive/processed/content/biorxiv_medrxiv.tar.gz\n",
      "Downloading: /datadrive/processed/content/arxiv.tar.gz\n",
      "Downloading: /datadrive/processed/content/metadata.csv\n"
     ]
    }
   ],
   "source": [
    "file = 'https://ai2-semanticscholar-cord-19.s3-us-west-2.amazonaws.com/latest/comm_use_subset.tar.gz'\n",
    "downloadAndExtractFile(file)\n",
    "file = 'https://ai2-semanticscholar-cord-19.s3-us-west-2.amazonaws.com/latest/noncomm_use_subset.tar.gz'\n",
    "downloadAndExtractFile(file)\n",
    "file = 'https://ai2-semanticscholar-cord-19.s3-us-west-2.amazonaws.com/latest/custom_license.tar.gz'\n",
    "downloadAndExtractFile(file)\n",
    "file = 'https://ai2-semanticscholar-cord-19.s3-us-west-2.amazonaws.com/latest/biorxiv_medrxiv.tar.gz'\n",
    "downloadAndExtractFile(file)\n",
    "file = 'https://ai2-semanticscholar-cord-19.s3-us-west-2.amazonaws.com/latest/arxiv.tar.gz'\n",
    "downloadAndExtractFile(file)\n",
    "file = 'https://ai2-semanticscholar-cord-19.s3-us-west-2.amazonaws.com/latest/metadata.csv'\n",
    "downloadFile(file)\n"
   ]
  },
  {
   "cell_type": "code",
   "execution_count": 32,
   "metadata": {},
   "outputs": [],
   "source": [
    "block_blob_service = BlockBlobService(account_name=globals.blob_account_name, account_key=globals.blob_account_key)\n"
   ]
  },
  {
   "cell_type": "code",
   "execution_count": 33,
   "metadata": {},
   "outputs": [
    {
     "name": "stdout",
     "output_type": "stream",
     "text": [
      "File Count:  71262\n"
     ]
    }
   ],
   "source": [
    "files = globals.getFilesInDir(globals.files_dir)\n",
    "print ('File Count: ', len(files))"
   ]
  },
  {
   "cell_type": "code",
   "execution_count": 34,
   "metadata": {},
   "outputs": [
    {
     "name": "stdout",
     "output_type": "stream",
     "text": [
      "Uploaded: 1000\n",
      "Uploaded: 2000\n",
      "Uploaded: 3000\n",
      "Uploaded: 4000\n",
      "Uploaded: 5000\n",
      "Uploaded: 6000\n",
      "Uploaded: 7000\n",
      "Uploaded: 8000\n",
      "Uploaded: 9000\n",
      "Uploaded: 10000\n",
      "Uploaded: 11000\n",
      "Uploaded: 12000\n",
      "Uploaded: 13000\n",
      "Uploaded: 14000\n",
      "Uploaded: 15000\n",
      "Uploaded: 16000\n",
      "Uploaded: 17000\n",
      "Uploaded: 18000\n",
      "Uploaded: 19000\n",
      "Uploaded: 20000\n",
      "Uploaded: 21000\n",
      "Uploaded: 22000\n",
      "Uploaded: 23000\n",
      "Uploaded: 24000\n",
      "Uploaded: 25000\n",
      "Uploaded: 26000\n",
      "Uploaded: 27000\n",
      "Uploaded: 28000\n",
      "Uploaded: 29000\n",
      "Uploaded: 30000\n",
      "Uploaded: 31000\n",
      "Uploaded: 32000\n",
      "Uploaded: 33000\n",
      "Uploaded: 34000\n",
      "Uploaded: 35000\n",
      "Uploaded: 36000\n",
      "Uploaded: 37000\n",
      "Uploaded: 38000\n",
      "Uploaded: 39000\n",
      "Uploaded: 40000\n",
      "Uploaded: 41000\n",
      "Uploaded: 42000\n",
      "Uploaded: 43000\n",
      "Uploaded: 44000\n",
      "Uploaded: 45000\n",
      "Uploaded: 46000\n",
      "Uploaded: 47000\n",
      "Uploaded: 48000\n",
      "Uploaded: 49000\n",
      "Uploaded: 50000\n",
      "Uploaded: 51000\n",
      "Uploaded: 52000\n",
      "Uploaded: 53000\n",
      "Uploaded: 54000\n",
      "Uploaded: 55000\n",
      "Uploaded: 56000\n",
      "Uploaded: 57000\n",
      "Uploaded: 58000\n",
      "Uploaded: 59000\n",
      "Uploaded: 60000\n",
      "Uploaded: 61000\n",
      "Uploaded: 62000\n",
      "Uploaded: 63000\n",
      "Uploaded: 64000\n",
      "Uploaded: 65000\n",
      "Uploaded: 66000\n",
      "Uploaded: 67000\n",
      "Uploaded: 68000\n",
      "Uploaded: 69000\n",
      "Uploaded: 70000\n",
      "Uploaded: 71000\n",
      "Uploaded: 71262\n"
     ]
    }
   ],
   "source": [
    "counter = 0\n",
    "for file in files:\n",
    "    uploadFiles(file, file.replace(globals.files_dir, 'json'))\n",
    "    counter += 1\n",
    "    if counter % 1000 == 0:\n",
    "        print (\"Uploaded:\", counter)\n",
    "print (\"Uploaded:\", counter)\n",
    "    \n",
    "    "
   ]
  },
  {
   "cell_type": "code",
   "execution_count": null,
   "metadata": {},
   "outputs": [],
   "source": []
  }
 ],
 "metadata": {
  "kernelspec": {
   "display_name": "py37_default",
   "language": "python",
   "name": "conda-env-py37_default-py"
  },
  "language_info": {
   "codemirror_mode": {
    "name": "ipython",
    "version": 3
   },
   "file_extension": ".py",
   "mimetype": "text/x-python",
   "name": "python",
   "nbconvert_exporter": "python",
   "pygments_lexer": "ipython3",
   "version": "3.7.6"
  }
 },
 "nbformat": 4,
 "nbformat_minor": 4
}
