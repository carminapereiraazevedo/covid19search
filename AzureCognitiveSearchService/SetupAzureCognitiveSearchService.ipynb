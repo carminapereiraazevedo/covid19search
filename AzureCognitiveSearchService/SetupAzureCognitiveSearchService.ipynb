{
 "cells": [
  {
   "cell_type": "markdown",
   "metadata": {},
   "source": [
    "# Setup Azure Cognitive Search Service\n",
    "This notebook will set up your Azure Cognitive Search Service.  \n",
    "\n",
    "First, you will need an Azure account.  If you don't already have one, you can start a free trial of Azure [here](https://azure.microsoft.com/free/).  \n",
    "\n",
    "Secondly, create a new Azure search service using the Azure portal at <https://portal.azure.com/#create/Microsoft.Search>.  Select your Azure subscription.  You may create a new resource group (you can name it something like \"covid19-search-rg\").  You will need a globally-unique URL as the name of your search service (try something like \"covid19-search-\" plus your name, organization, or numbers).  Finally, choose a nearby location to host your search service - please remember the location that you chose, as your Cognitive Services instance will need to be based in the same location.  Click \"Review + create\" and then (after validation) click \"Create\" to instantiate and deploy the service.  \n",
    "\n",
    "After deployment is complete, click \"Go to resource\" to navigate to your new search service.  We will need some information about your search service to fill in the \"Azure Search variables\" section in the cell below.  First, on the \"Overview\" main page, you should see a \"Url\" value.  Copy that value into the \"azsearch_url\" variable in the cell below (you can just update the \"<YourSearchServiceName>\" section of the URL with the name of your Azure search service).  Then, on the Azure portal page in the left-hand pane under \"Settings\", click on \"Keys\".  Update the azsearch_key value below with one of the keys from your service on the Azure portal page.    "
   ]
  },
  {
   "cell_type": "code",
   "execution_count": null,
   "metadata": {},
   "outputs": [],
   "source": [
    "# Azure Search variables\n",
    "azsearch_url = \"<YourSearchServiceName>.search.windows.net\"  # If you copy this value from the portal, leave off the \"https://\" from the beginning\n",
    "azsearch_key = \"TODO\" \n",
    "\n",
    "# Cognitive Services variables\n",
    "\n",
    "\n",
    "# Data source which contains documents to process\n",
    "blob_connection_string = \"\"\n",
    "blob_container = \"small\"\n",
    "\n",
    "# Prefix for elements of the Cognitive Search service\n",
    "search_prefix = \"pwc\"\n",
    "\n",
    "print(\"The variables are initialized.\")"
   ]
  },
  {
   "cell_type": "markdown",
   "metadata": {},
   "source": [
    "TODO: explain"
   ]
  },
  {
   "cell_type": "code",
   "execution_count": null,
   "metadata": {},
   "outputs": [],
   "source": [
    "import json\n",
    "\n",
    "# Function to wrap REST requests to Azure Search service\n",
    "def azsearch_rest(request_type=\"GET\", endpoint=\"servicestats\", body=None):\n",
    "    # Imports and constants\n",
    "    import http.client, urllib.request, urllib.parse, urllib.error, base64, json, urllib\n",
    "\n",
    "    # Request headers.\n",
    "    headers = {\n",
    "        'Content-Type': 'application/json',\n",
    "        'api-key': azsearch_key\n",
    "    }\n",
    "\n",
    "    # Request parameters\n",
    "    params = urllib.parse.urlencode({\n",
    "        'api-version':'2019-05-06-Preview'\n",
    "    })\n",
    "    \n",
    "    try:\n",
    "        # Execute the REST API call and get the response.\n",
    "        conn = http.client.HTTPSConnection(azsearch_url)\n",
    "        request_path = \"/{0}?{1}\".format(endpoint, params)\n",
    "        conn.request(request_type, request_path, body, headers)\n",
    "        response = conn.getresponse()\n",
    "        print(response.status)\n",
    "        data = response.read().decode(\"UTF-8\")\n",
    "        result = None\n",
    "        if len(data) > 0:\n",
    "            result = json.loads(data)\n",
    "        return result\n",
    "\n",
    "    except Exception as ex:\n",
    "        raise ex\n",
    "        \n",
    "# Test the function\n",
    "try:\n",
    "    response = azsearch_rest()\n",
    "    if response != None:\n",
    "            print(json.dumps(response, sort_keys=True, indent=2))\n",
    "except Exception as ex:\n",
    "    print(ex.message)"
   ]
  },
  {
   "cell_type": "markdown",
   "metadata": {},
   "source": [
    "First, let's set up the data source for your service.  "
   ]
  },
  {
   "cell_type": "code",
   "execution_count": null,
   "metadata": {},
   "outputs": [],
   "source": [
    "datasource_name = search_prefix + \"-ds\"\n",
    "\n",
    "# Define the request body with details of the data source we want to create\n",
    "body = {   \n",
    "    \"name\": datasource_name,  \n",
    "    \"description\": \"\",  \n",
    "    \"type\": \"azureblob\",\n",
    "    \"credentials\":\n",
    "        { \"connectionString\": blob_connection_string\n",
    "        },  \n",
    "    \"container\": { \"name\": blob_container }\n",
    "} \n",
    "\n",
    "try:\n",
    "    # Call the REST API's 'datasources' endpoint to create a data sourve\n",
    "    result = azsearch_rest(request_type=\"POST\", endpoint=\"datasources\", body=json.dumps(body))\n",
    "    if result != None:\n",
    "        print(json.dumps(result, sort_keys=True, indent=2))\n",
    "except Exception as ex:\n",
    "    print(ex)"
   ]
  },
  {
   "cell_type": "markdown",
   "metadata": {},
   "source": [
    "Then let's set up your search index.  "
   ]
  },
  {
   "cell_type": "code",
   "execution_count": null,
   "metadata": {},
   "outputs": [],
   "source": [
    "index_name = search_prefix + \"-index\"\n",
    "\n",
    "# Define the request body\n",
    "with open(\"index.json\") as datafile:\n",
    "  index_json = json.load(datafile)\n",
    "\n",
    "try:\n",
    "    result = azsearch_rest(request_type=\"PUT\", endpoint=\"indexes/\" + index_name, body=json.dumps(index_json))\n",
    "    if result != None:\n",
    "        print(json.dumps(result, sort_keys=True, indent=2))\n",
    "\n",
    "except Exception as e:\n",
    "    print('Error:')\n",
    "    print(e)"
   ]
  }
 ],
 "metadata": {
  "kernelspec": {
   "display_name": "Python 3",
   "language": "python",
   "name": "python3"
  }
 },
 "nbformat": 4,
 "nbformat_minor": 4
}